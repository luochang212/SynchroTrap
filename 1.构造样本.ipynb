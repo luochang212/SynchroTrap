{
 "cells": [
  {
   "cell_type": "markdown",
   "id": "514568af-d312-4d81-a426-88385e86d085",
   "metadata": {},
   "source": [
    "# 构造样本"
   ]
  },
  {
   "cell_type": "code",
   "execution_count": 1,
   "id": "8d621f0a-e169-4ed6-bf33-1fa0085014ac",
   "metadata": {
    "execution": {
     "iopub.execute_input": "2024-07-30T19:37:46.275238Z",
     "iopub.status.busy": "2024-07-30T19:37:46.274875Z",
     "iopub.status.idle": "2024-07-30T19:37:48.753470Z",
     "shell.execute_reply": "2024-07-30T19:37:48.752625Z",
     "shell.execute_reply.started": "2024-07-30T19:37:46.275213Z"
    }
   },
   "outputs": [],
   "source": [
    "import collections\n",
    "import random\n",
    "import datetime\n",
    "import numpy as np\n",
    "import pandas as pd\n",
    "import matplotlib.pyplot as plt\n",
    "\n",
    "from gen_data import Source\n",
    "from gen_data.source import Info\n",
    "from gen_data.distribution import DiscreteDistribution\n",
    "\n",
    "import utils"
   ]
  },
  {
   "cell_type": "code",
   "execution_count": 2,
   "id": "12cf12c7-c3a6-4176-8fda-3c982100ee42",
   "metadata": {
    "execution": {
     "iopub.execute_input": "2024-07-30T19:37:48.755095Z",
     "iopub.status.busy": "2024-07-30T19:37:48.754712Z",
     "iopub.status.idle": "2024-07-30T19:37:48.758618Z",
     "shell.execute_reply": "2024-07-30T19:37:48.757761Z",
     "shell.execute_reply.started": "2024-07-30T19:37:48.755068Z"
    }
   },
   "outputs": [],
   "source": [
    "FILE_PATH = './data'\n",
    "CSV_FILE = 'user.csv'"
   ]
  },
  {
   "cell_type": "markdown",
   "id": "eafaaaaf-903d-4fd4-a502-c99f7ce7a037",
   "metadata": {},
   "source": [
    "## 1. 生成源数据\n",
    "\n",
    "Python 的 `mimesis` 包可以用来造数据。\n",
    "\n",
    "我们来造一些用户数据，每个用户包含四个特征：名字 (FULL_NAME)、邮箱 (EMAIL)、IP (IP_V4)、UA (USER_AGENT)"
   ]
  },
  {
   "cell_type": "code",
   "execution_count": 3,
   "id": "acb6feb8-0fd5-401e-978c-8e56e6dcdc03",
   "metadata": {
    "execution": {
     "iopub.execute_input": "2024-07-30T19:37:48.761723Z",
     "iopub.status.busy": "2024-07-30T19:37:48.761468Z",
     "iopub.status.idle": "2024-07-30T19:37:48.774957Z",
     "shell.execute_reply": "2024-07-30T19:37:48.774362Z",
     "shell.execute_reply.started": "2024-07-30T19:37:48.761703Z"
    }
   },
   "outputs": [
    {
     "data": {
      "text/html": [
       "<div>\n",
       "<style scoped>\n",
       "    .dataframe tbody tr th:only-of-type {\n",
       "        vertical-align: middle;\n",
       "    }\n",
       "\n",
       "    .dataframe tbody tr th {\n",
       "        vertical-align: top;\n",
       "    }\n",
       "\n",
       "    .dataframe thead th {\n",
       "        text-align: right;\n",
       "    }\n",
       "</style>\n",
       "<table border=\"1\" class=\"dataframe\">\n",
       "  <thead>\n",
       "    <tr style=\"text-align: right;\">\n",
       "      <th></th>\n",
       "      <th>full_name</th>\n",
       "      <th>email</th>\n",
       "      <th>ip_v4</th>\n",
       "      <th>user_agent</th>\n",
       "    </tr>\n",
       "  </thead>\n",
       "  <tbody>\n",
       "    <tr>\n",
       "      <th>0</th>\n",
       "      <td>Tish Griffith</td>\n",
       "      <td>periodically2044@protonmail.com</td>\n",
       "      <td>20.136.162.126</td>\n",
       "      <td>Mozilla/5.0 (Windows NT 6.1) AppleWebKit/537.3...</td>\n",
       "    </tr>\n",
       "    <tr>\n",
       "      <th>1</th>\n",
       "      <td>Marg Robinson</td>\n",
       "      <td>actions1839@outlook.com</td>\n",
       "      <td>240.40.187.130</td>\n",
       "      <td>Mozilla/5.0 (Windows NT 6.3) AppleWebKit/537.3...</td>\n",
       "    </tr>\n",
       "    <tr>\n",
       "      <th>2</th>\n",
       "      <td>Karima Jackson</td>\n",
       "      <td>monte2022@outlook.com</td>\n",
       "      <td>191.79.27.8</td>\n",
       "      <td>Mozilla/5.0 (iPhone; CPU iPhone OS 8_3 like Ma...</td>\n",
       "    </tr>\n",
       "  </tbody>\n",
       "</table>\n",
       "</div>"
      ],
      "text/plain": [
       "        full_name                            email           ip_v4  \\\n",
       "0   Tish Griffith  periodically2044@protonmail.com  20.136.162.126   \n",
       "1   Marg Robinson          actions1839@outlook.com  240.40.187.130   \n",
       "2  Karima Jackson            monte2022@outlook.com     191.79.27.8   \n",
       "\n",
       "                                          user_agent  \n",
       "0  Mozilla/5.0 (Windows NT 6.1) AppleWebKit/537.3...  \n",
       "1  Mozilla/5.0 (Windows NT 6.3) AppleWebKit/537.3...  \n",
       "2  Mozilla/5.0 (iPhone; CPU iPhone OS 8_3 like Ma...  "
      ]
     },
     "execution_count": 3,
     "metadata": {},
     "output_type": "execute_result"
    }
   ],
   "source": [
    "# 生成无重复的用户特征，作为构作分布的原料\n",
    "funcs = [\n",
    "        Info.FULL_NAME,\n",
    "        Info.EMAIL,\n",
    "        Info.IP_V4,\n",
    "        Info.USER_AGENT,\n",
    "    ]\n",
    "s = Source()\n",
    "d = s.gen_features(size=3,\n",
    "                   max_tries=1000,\n",
    "                   funcs=funcs)\n",
    "d"
   ]
  },
  {
   "cell_type": "code",
   "execution_count": 4,
   "id": "a7af5c68-ab39-40e7-8a79-d90664e4de61",
   "metadata": {
    "execution": {
     "iopub.execute_input": "2024-07-30T19:37:48.775963Z",
     "iopub.status.busy": "2024-07-30T19:37:48.775716Z",
     "iopub.status.idle": "2024-07-30T19:37:48.782817Z",
     "shell.execute_reply": "2024-07-30T19:37:48.781684Z",
     "shell.execute_reply.started": "2024-07-30T19:37:48.775931Z"
    }
   },
   "outputs": [
    {
     "data": {
      "text/plain": [
       "['128.208.59.54',\n",
       " '117.216.182.149',\n",
       " '104.32.55.65',\n",
       " '195.148.37.15',\n",
       " '9.119.216.165']"
      ]
     },
     "execution_count": 4,
     "metadata": {},
     "output_type": "execute_result"
    }
   ],
   "source": [
    "# 生成单一维度数据源\n",
    "s.gen_feature(func=Info.IP_V4,\n",
    "              size=5,\n",
    "              max_tries=1000)"
   ]
  },
  {
   "cell_type": "markdown",
   "id": "0a777184-7e87-4d64-9063-70c74eda5243",
   "metadata": {},
   "source": [
    "## 2. 生成大盘数据\n",
    "\n",
    "### 2.1 生成正态样本分布\n",
    "\n",
    "有原料就可以开始造数据了。\n",
    "\n",
    "先来造大盘数据。假设大盘符合正态分布。写一个函数，构造符合正态分布的样本数据。"
   ]
  },
  {
   "cell_type": "code",
   "execution_count": 5,
   "id": "f1e36bf1-4cf3-431b-a5f1-66b360dec2fe",
   "metadata": {
    "execution": {
     "iopub.execute_input": "2024-07-30T19:37:48.784861Z",
     "iopub.status.busy": "2024-07-30T19:37:48.784427Z",
     "iopub.status.idle": "2024-07-30T19:37:48.795232Z",
     "shell.execute_reply": "2024-07-30T19:37:48.794021Z",
     "shell.execute_reply.started": "2024-07-30T19:37:48.784835Z"
    }
   },
   "outputs": [
    {
     "data": {
      "text/plain": [
       "{'156.97.165.202': 5,\n",
       " '249.30.207.165': 7,\n",
       " '8.143.116.27': 4,\n",
       " '84.18.186.77': 2,\n",
       " '110.97.134.254': 6,\n",
       " '109.96.133.42': 2,\n",
       " '127.121.85.250': 0,\n",
       " '32.93.24.154': 2,\n",
       " '116.156.126.68': 0,\n",
       " '92.126.127.109': 2}"
      ]
     },
     "execution_count": 5,
     "metadata": {},
     "output_type": "execute_result"
    }
   ],
   "source": [
    "# 大盘数据\n",
    "def gen_normal_samples(scale, num_samples, bins, func):\n",
    "    \"\"\"生成符合正态分布的样本\n",
    "\n",
    "    :param scale: 正态分布的标准差\n",
    "    :param num_samples: 样本总数\n",
    "    :param bins: 分箱数，即无重复的样本数\n",
    "    \"\"\"\n",
    "\n",
    "    # 生成符合正态分布的样本量\n",
    "    sample_sizes = DiscreteDistribution.normal(scale=scale,\n",
    "                                               num_samples=num_samples,\n",
    "                                               bins=bins)\n",
    "\n",
    "    # 生成无重复的 样本列表\n",
    "    # 生成的样本量与分箱数 bins 相同\n",
    "    s = Source()\n",
    "    unique_sample_list = s.gen_feature(func=func,\n",
    "                                       size=bins,\n",
    "                                       max_tries=1000)\n",
    "\n",
    "    # 打散 样本列表\n",
    "    random.shuffle(unique_sample_list)\n",
    "    samples_dict = { k:v for k, v in zip(unique_sample_list, sample_sizes) }\n",
    "\n",
    "    return samples_dict\n",
    "\n",
    "\n",
    "# 以 ipv4 为例，生成符合正态分布的 ipv4\n",
    "gen_normal_samples(scale=5,\n",
    "                   num_samples=30,\n",
    "                   bins=10,\n",
    "                   func=Info.IP_V4)"
   ]
  },
  {
   "cell_type": "markdown",
   "id": "eb4f449d-c6f6-4c0f-8877-4df0db89ec13",
   "metadata": {},
   "source": [
    "### 2.2 生成 uid 并计算访问次数\n",
    "\n",
    "接着，我们来生成 uid。假设每个 uid 的访问次数服从泊松分布。\n",
    "\n",
    "通过仿真，我们可以得到服从泊松分布的 uid 访问次数。"
   ]
  },
  {
   "cell_type": "code",
   "execution_count": 6,
   "id": "d5359e02-e120-4e61-828e-50d742ea4ec3",
   "metadata": {
    "execution": {
     "iopub.execute_input": "2024-07-30T19:37:48.796721Z",
     "iopub.status.busy": "2024-07-30T19:37:48.796259Z",
     "iopub.status.idle": "2024-07-30T19:37:48.807042Z",
     "shell.execute_reply": "2024-07-30T19:37:48.806206Z",
     "shell.execute_reply.started": "2024-07-30T19:37:48.796687Z"
    }
   },
   "outputs": [
    {
     "name": "stdout",
     "output_type": "stream",
     "text": [
      "query_num: [1 6 1 2 4 3 3 0 2 0]\n",
      "uid_dict: {0: 1, 1: 6, 2: 1, 3: 2, 4: 4, 5: 3, 6: 3, 8: 2}\n",
      "query_sum: 22\n",
      "ipv4_dict: {'211.168.66.90': 3, '97.27.42.118': 3, '95.166.60.250': 1, '225.199.215.45': 3, '135.139.181.136': 2, '65.40.177.126': 4, '16.203.170.95': 2, '102.237.184.3': 2, '174.63.229.181': 0, '203.171.211.84': 2}\n"
     ]
    }
   ],
   "source": [
    "# 生成 uid\n",
    "\n",
    "# 假设有 10 个人，每个人的访问次数服从泊松分布\n",
    "# 泊松分布的参数 lambda = 2\n",
    "uid_num = 10\n",
    "poisson_lambda = 2\n",
    "\n",
    "query_num = np.random.poisson(lam=poisson_lambda, size=uid_num)\n",
    "print(f'query_num: {query_num}')\n",
    "\n",
    "# 生成 uid 字典，key 是 uid，value 是该 uid 产生的 query 数\n",
    "uid_dict = { k:v for k, v in zip(range(uid_num), query_num) if v > 0 }\n",
    "print(f'uid_dict: {uid_dict}')\n",
    "\n",
    "# 计算这 10 个人产生了多少 query\n",
    "query_sum = sum(query_num)\n",
    "print(f'query_sum: {query_sum}')\n",
    "\n",
    "# 然后生成 query_sum 个 ipv4 样本\n",
    "ipv4_dict = gen_normal_samples(scale=5,\n",
    "                               num_samples=query_sum,\n",
    "                               bins=10,\n",
    "                               func=Info.IP_V4)\n",
    "\n",
    "print(f'ipv4_dict: {ipv4_dict}')"
   ]
  },
  {
   "cell_type": "markdown",
   "id": "97c8b740-edbc-4cdd-a2fb-77042eab3ee2",
   "metadata": {},
   "source": [
    "现实世界中，同一个 uid 倾向于使用同一个 ip，因此 uid 与 ip 的对应关系并非随机。\n",
    "\n",
    "但在本次仿真中，随机组合无伤大雅。"
   ]
  },
  {
   "cell_type": "code",
   "execution_count": 7,
   "id": "aee4bd9f-722d-498a-8c1b-e790a08abaa9",
   "metadata": {
    "execution": {
     "iopub.execute_input": "2024-07-30T19:37:48.808695Z",
     "iopub.status.busy": "2024-07-30T19:37:48.808102Z",
     "iopub.status.idle": "2024-07-30T19:37:48.821258Z",
     "shell.execute_reply": "2024-07-30T19:37:48.820362Z",
     "shell.execute_reply.started": "2024-07-30T19:37:48.808670Z"
    }
   },
   "outputs": [
    {
     "data": {
      "text/html": [
       "<div>\n",
       "<style scoped>\n",
       "    .dataframe tbody tr th:only-of-type {\n",
       "        vertical-align: middle;\n",
       "    }\n",
       "\n",
       "    .dataframe tbody tr th {\n",
       "        vertical-align: top;\n",
       "    }\n",
       "\n",
       "    .dataframe thead th {\n",
       "        text-align: right;\n",
       "    }\n",
       "</style>\n",
       "<table border=\"1\" class=\"dataframe\">\n",
       "  <thead>\n",
       "    <tr style=\"text-align: right;\">\n",
       "      <th></th>\n",
       "      <th>uid</th>\n",
       "      <th>ipv4</th>\n",
       "    </tr>\n",
       "  </thead>\n",
       "  <tbody>\n",
       "    <tr>\n",
       "      <th>0</th>\n",
       "      <td>0</td>\n",
       "      <td>16.203.170.95</td>\n",
       "    </tr>\n",
       "    <tr>\n",
       "      <th>1</th>\n",
       "      <td>1</td>\n",
       "      <td>65.40.177.126</td>\n",
       "    </tr>\n",
       "    <tr>\n",
       "      <th>2</th>\n",
       "      <td>1</td>\n",
       "      <td>135.139.181.136</td>\n",
       "    </tr>\n",
       "    <tr>\n",
       "      <th>3</th>\n",
       "      <td>1</td>\n",
       "      <td>225.199.215.45</td>\n",
       "    </tr>\n",
       "    <tr>\n",
       "      <th>4</th>\n",
       "      <td>1</td>\n",
       "      <td>97.27.42.118</td>\n",
       "    </tr>\n",
       "    <tr>\n",
       "      <th>5</th>\n",
       "      <td>1</td>\n",
       "      <td>65.40.177.126</td>\n",
       "    </tr>\n",
       "    <tr>\n",
       "      <th>6</th>\n",
       "      <td>1</td>\n",
       "      <td>211.168.66.90</td>\n",
       "    </tr>\n",
       "    <tr>\n",
       "      <th>7</th>\n",
       "      <td>2</td>\n",
       "      <td>225.199.215.45</td>\n",
       "    </tr>\n",
       "    <tr>\n",
       "      <th>8</th>\n",
       "      <td>3</td>\n",
       "      <td>211.168.66.90</td>\n",
       "    </tr>\n",
       "    <tr>\n",
       "      <th>9</th>\n",
       "      <td>3</td>\n",
       "      <td>225.199.215.45</td>\n",
       "    </tr>\n",
       "    <tr>\n",
       "      <th>10</th>\n",
       "      <td>4</td>\n",
       "      <td>211.168.66.90</td>\n",
       "    </tr>\n",
       "    <tr>\n",
       "      <th>11</th>\n",
       "      <td>4</td>\n",
       "      <td>65.40.177.126</td>\n",
       "    </tr>\n",
       "    <tr>\n",
       "      <th>12</th>\n",
       "      <td>4</td>\n",
       "      <td>16.203.170.95</td>\n",
       "    </tr>\n",
       "    <tr>\n",
       "      <th>13</th>\n",
       "      <td>4</td>\n",
       "      <td>203.171.211.84</td>\n",
       "    </tr>\n",
       "    <tr>\n",
       "      <th>14</th>\n",
       "      <td>5</td>\n",
       "      <td>97.27.42.118</td>\n",
       "    </tr>\n",
       "    <tr>\n",
       "      <th>15</th>\n",
       "      <td>5</td>\n",
       "      <td>102.237.184.3</td>\n",
       "    </tr>\n",
       "    <tr>\n",
       "      <th>16</th>\n",
       "      <td>5</td>\n",
       "      <td>95.166.60.250</td>\n",
       "    </tr>\n",
       "    <tr>\n",
       "      <th>17</th>\n",
       "      <td>6</td>\n",
       "      <td>97.27.42.118</td>\n",
       "    </tr>\n",
       "    <tr>\n",
       "      <th>18</th>\n",
       "      <td>6</td>\n",
       "      <td>135.139.181.136</td>\n",
       "    </tr>\n",
       "    <tr>\n",
       "      <th>19</th>\n",
       "      <td>6</td>\n",
       "      <td>203.171.211.84</td>\n",
       "    </tr>\n",
       "    <tr>\n",
       "      <th>20</th>\n",
       "      <td>8</td>\n",
       "      <td>102.237.184.3</td>\n",
       "    </tr>\n",
       "    <tr>\n",
       "      <th>21</th>\n",
       "      <td>8</td>\n",
       "      <td>65.40.177.126</td>\n",
       "    </tr>\n",
       "  </tbody>\n",
       "</table>\n",
       "</div>"
      ],
      "text/plain": [
       "    uid             ipv4\n",
       "0     0    16.203.170.95\n",
       "1     1    65.40.177.126\n",
       "2     1  135.139.181.136\n",
       "3     1   225.199.215.45\n",
       "4     1     97.27.42.118\n",
       "5     1    65.40.177.126\n",
       "6     1    211.168.66.90\n",
       "7     2   225.199.215.45\n",
       "8     3    211.168.66.90\n",
       "9     3   225.199.215.45\n",
       "10    4    211.168.66.90\n",
       "11    4    65.40.177.126\n",
       "12    4    16.203.170.95\n",
       "13    4   203.171.211.84\n",
       "14    5     97.27.42.118\n",
       "15    5    102.237.184.3\n",
       "16    5    95.166.60.250\n",
       "17    6     97.27.42.118\n",
       "18    6  135.139.181.136\n",
       "19    6   203.171.211.84\n",
       "20    8    102.237.184.3\n",
       "21    8    65.40.177.126"
      ]
     },
     "execution_count": 7,
     "metadata": {},
     "output_type": "execute_result"
    }
   ],
   "source": [
    "# 将 uid 和 ipv4 展平后，随机混合在一起\n",
    "uid_list = [ k for k, v in uid_dict.items() for _ in range(v) ]\n",
    "ipv4_list = [ k for k, v in ipv4_dict.items() for _ in range(v) ]\n",
    "random.shuffle(ipv4_list)\n",
    "\n",
    "user_table = collections.defaultdict(list)\n",
    "for uid, ipv4 in zip(uid_list, ipv4_list):\n",
    "    user_table['uid'].append(uid)\n",
    "    user_table['ipv4'].append(ipv4)\n",
    "\n",
    "pd.DataFrame(user_table)"
   ]
  },
  {
   "cell_type": "markdown",
   "id": "2b59e81b-139e-4d3c-92ff-42e4f8e2f412",
   "metadata": {},
   "source": [
    "通过把 uid 和 ipv4 随机地组合起来，我们得到了一张看起来像那么回事的日志表。\n",
    "\n",
    "写一个函数，统合以上生成 `user_table` 的代码。"
   ]
  },
  {
   "cell_type": "code",
   "execution_count": 8,
   "id": "aa74db58-7eb7-402a-a44e-0223968fba02",
   "metadata": {
    "execution": {
     "iopub.execute_input": "2024-07-30T19:37:48.823077Z",
     "iopub.status.busy": "2024-07-30T19:37:48.822613Z",
     "iopub.status.idle": "2024-07-30T19:37:48.837502Z",
     "shell.execute_reply": "2024-07-30T19:37:48.836250Z",
     "shell.execute_reply.started": "2024-07-30T19:37:48.823050Z"
    }
   },
   "outputs": [
    {
     "data": {
      "text/html": [
       "<div>\n",
       "<style scoped>\n",
       "    .dataframe tbody tr th:only-of-type {\n",
       "        vertical-align: middle;\n",
       "    }\n",
       "\n",
       "    .dataframe tbody tr th {\n",
       "        vertical-align: top;\n",
       "    }\n",
       "\n",
       "    .dataframe thead th {\n",
       "        text-align: right;\n",
       "    }\n",
       "</style>\n",
       "<table border=\"1\" class=\"dataframe\">\n",
       "  <thead>\n",
       "    <tr style=\"text-align: right;\">\n",
       "      <th></th>\n",
       "      <th>uid</th>\n",
       "      <th>ipv4</th>\n",
       "    </tr>\n",
       "  </thead>\n",
       "  <tbody>\n",
       "    <tr>\n",
       "      <th>0</th>\n",
       "      <td>0</td>\n",
       "      <td>124.217.67.20</td>\n",
       "    </tr>\n",
       "    <tr>\n",
       "      <th>1</th>\n",
       "      <td>0</td>\n",
       "      <td>140.5.88.157</td>\n",
       "    </tr>\n",
       "    <tr>\n",
       "      <th>2</th>\n",
       "      <td>0</td>\n",
       "      <td>112.70.243.15</td>\n",
       "    </tr>\n",
       "    <tr>\n",
       "      <th>3</th>\n",
       "      <td>1</td>\n",
       "      <td>112.70.243.15</td>\n",
       "    </tr>\n",
       "    <tr>\n",
       "      <th>4</th>\n",
       "      <td>1</td>\n",
       "      <td>248.115.245.236</td>\n",
       "    </tr>\n",
       "    <tr>\n",
       "      <th>...</th>\n",
       "      <td>...</td>\n",
       "      <td>...</td>\n",
       "    </tr>\n",
       "    <tr>\n",
       "      <th>214</th>\n",
       "      <td>98</td>\n",
       "      <td>73.103.176.92</td>\n",
       "    </tr>\n",
       "    <tr>\n",
       "      <th>215</th>\n",
       "      <td>98</td>\n",
       "      <td>67.49.153.216</td>\n",
       "    </tr>\n",
       "    <tr>\n",
       "      <th>216</th>\n",
       "      <td>99</td>\n",
       "      <td>73.103.176.92</td>\n",
       "    </tr>\n",
       "    <tr>\n",
       "      <th>217</th>\n",
       "      <td>99</td>\n",
       "      <td>57.125.234.224</td>\n",
       "    </tr>\n",
       "    <tr>\n",
       "      <th>218</th>\n",
       "      <td>99</td>\n",
       "      <td>112.70.243.15</td>\n",
       "    </tr>\n",
       "  </tbody>\n",
       "</table>\n",
       "<p>219 rows × 2 columns</p>\n",
       "</div>"
      ],
      "text/plain": [
       "     uid             ipv4\n",
       "0      0    124.217.67.20\n",
       "1      0     140.5.88.157\n",
       "2      0    112.70.243.15\n",
       "3      1    112.70.243.15\n",
       "4      1  248.115.245.236\n",
       "..   ...              ...\n",
       "214   98    73.103.176.92\n",
       "215   98    67.49.153.216\n",
       "216   99    73.103.176.92\n",
       "217   99   57.125.234.224\n",
       "218   99    112.70.243.15\n",
       "\n",
       "[219 rows x 2 columns]"
      ]
     },
     "execution_count": 8,
     "metadata": {},
     "output_type": "execute_result"
    }
   ],
   "source": [
    "def gen_user_table(uid_num, poisson_lambda, ip_scale, ip_bins):\n",
    "    query_num = np.random.poisson(lam=poisson_lambda, size=uid_num)\n",
    "\n",
    "    # 生成 uid 字典，key 是 uid，value 是该 uid 产生的 query 数\n",
    "    uid_dict = { k:v for k, v in zip(range(uid_num), query_num) if v > 0 }\n",
    "\n",
    "    query_sum = sum(query_num)\n",
    "\n",
    "    # 然后生成 query_sum 个 ipv4 样本\n",
    "    ipv4_dict = gen_normal_samples(scale=ip_scale,\n",
    "                                   num_samples=query_sum,\n",
    "                                   bins=ip_bins,\n",
    "                                   func=Info.IP_V4)\n",
    "\n",
    "    # 将 uid 和 ipv4 展平后，随机混合在一起\n",
    "    uid_list = [ k for k, v in uid_dict.items() for _ in range(v) ]\n",
    "    ipv4_list = [ k for k, v in ipv4_dict.items() for _ in range(v) ]\n",
    "    random.shuffle(ipv4_list)\n",
    "\n",
    "    user_table = collections.defaultdict(list)\n",
    "    for uid, ipv4 in zip(uid_list, ipv4_list):\n",
    "        user_table['uid'].append(uid)\n",
    "        user_table['ipv4'].append(ipv4)\n",
    "\n",
    "    return pd.DataFrame(user_table)\n",
    "\n",
    "\n",
    "gen_user_table(uid_num=100,\n",
    "               poisson_lambda=2,\n",
    "               ip_scale=0.5,\n",
    "               ip_bins=80)"
   ]
  },
  {
   "cell_type": "markdown",
   "id": "fb674a40-36e6-4a90-89c9-62fee4b0f38f",
   "metadata": {},
   "source": [
    "### 2.3 时间与时间戳\n",
    "\n",
    "为了达到运行算法的最小要求，还要给日志加上时间和时间戳。\n",
    "\n",
    "注意了，我要整个活。假设：\n",
    "\n",
    "1. 单位时间内，用户到达的数量服从泊松分布\n",
    "2. 用户到达的最小时间粒度是 1 秒，即 1 秒内最多到达 1 个用户\n",
    "3. 因为用户晚上睡觉，白天活动，所以白天的 $\\lambda$ 比晚上高。可以认为 $\\lambda$ 是时间 t 的函数。\n",
    "\n",
    "构造 $\\lambda$ 关于时间 $t$ 的近似函数：\n",
    "\n",
    "$\\lambda = 0.1 - \\frac{1}{9 * 10^9} (t - 43200)^2 + \\epsilon, t \\in [0, 86400]$\n",
    "\n",
    "其中，$\\epsilon$ 是扰动项，它服从一个期望值很小的均匀分布"
   ]
  },
  {
   "cell_type": "code",
   "execution_count": 9,
   "id": "ccba9da4-4dc7-4122-b20b-4472f89759d4",
   "metadata": {
    "execution": {
     "iopub.execute_input": "2024-07-30T19:37:48.839651Z",
     "iopub.status.busy": "2024-07-30T19:37:48.839095Z",
     "iopub.status.idle": "2024-07-30T19:37:49.133507Z",
     "shell.execute_reply": "2024-07-30T19:37:49.132429Z",
     "shell.execute_reply.started": "2024-07-30T19:37:48.839609Z"
    }
   },
   "outputs": [
    {
     "name": "stdout",
     "output_type": "stream",
     "text": [
      "sum of lambda: 4432.239\n"
     ]
    },
    {
     "data": {
      "image/png": "[encoded data removed]",
      "text/plain": [
       "<Figure size 640x480 with 1 Axes>"
      ]
     },
     "metadata": {},
     "output_type": "display_data"
    }
   ],
   "source": [
    "# 一天的总秒数\n",
    "sec = 24 * 60 * 60\n",
    "\n",
    "\n",
    "def lambda_func(x: list):\n",
    "    y = [0.1-(e-(sec/2))**2/(9*10**9) for e in x]\n",
    "    y = [0 if e < 0 else round(e, 5) for e in y]\n",
    "    epsilon = np.random.uniform(low=0.0, high=0.01, size=sec)\n",
    "    y = [yy+e for yy, e in zip(y, epsilon)]\n",
    "\n",
    "    print(f'sum of lambda: {sum(y):.3f}')\n",
    "\n",
    "    # lambda 随时间 t 变化的图像\n",
    "    plt.plot(x, y)\n",
    "    plt.xlabel('t (seconds)')\n",
    "    plt.ylabel('lambda of poisson')\n",
    "    plt.title('lamdba = f(t)')\n",
    "    plt.show()\n",
    "\n",
    "    return y, epsilon\n",
    "\n",
    "\n",
    "x = range(sec)\n",
    "_ = lambda_func(x)"
   ]
  },
  {
   "cell_type": "code",
   "execution_count": 10,
   "id": "062ebdb1-559c-4744-b86d-07fcf3240584",
   "metadata": {
    "execution": {
     "iopub.execute_input": "2024-07-30T19:37:49.136126Z",
     "iopub.status.busy": "2024-07-30T19:37:49.135704Z",
     "iopub.status.idle": "2024-07-30T19:37:49.330170Z",
     "shell.execute_reply": "2024-07-30T19:37:49.329538Z",
     "shell.execute_reply.started": "2024-07-30T19:37:49.136103Z"
    }
   },
   "outputs": [
    {
     "name": "stdout",
     "output_type": "stream",
     "text": [
      "sum of lambda: 314.094\n"
     ]
    },
    {
     "data": {
      "image/png": "[encoded data removed]",
      "text/plain": [
       "<Figure size 640x480 with 1 Axes>"
      ]
     },
     "metadata": {},
     "output_type": "display_data"
    }
   ],
   "source": [
    "# 截取早上 8 点到 9 点的 lamdba 图像\n",
    "# 也就是说，对于 8 点到 9 点的每一秒，我们都有一个确定的 lambda 值与之对应\n",
    "x = range(8*60*60, 9*60*60)\n",
    "lam, epsilon = lambda_func(x)"
   ]
  },
  {
   "cell_type": "code",
   "execution_count": 11,
   "id": "b1226822-e6f1-486c-9faf-1900442e1365",
   "metadata": {
    "execution": {
     "iopub.execute_input": "2024-07-30T19:37:49.331623Z",
     "iopub.status.busy": "2024-07-30T19:37:49.331310Z",
     "iopub.status.idle": "2024-07-30T19:37:49.335589Z",
     "shell.execute_reply": "2024-07-30T19:37:49.334985Z",
     "shell.execute_reply.started": "2024-07-30T19:37:49.331582Z"
    }
   },
   "outputs": [],
   "source": [
    "def lambda_func(x: int, epsilon):\n",
    "    x = x % sec\n",
    "    e = epsilon[x]\n",
    "    y = 0.1-(x-(sec/2))**2/(9*10**9)\n",
    "    y = 0 if y < 0 else round(y, 5)\n",
    "    return y + e"
   ]
  },
  {
   "cell_type": "code",
   "execution_count": 12,
   "id": "2a49605f-8338-4357-90ef-0b8e9c04c207",
   "metadata": {
    "execution": {
     "iopub.execute_input": "2024-07-30T19:37:49.341242Z",
     "iopub.status.busy": "2024-07-30T19:37:49.340989Z",
     "iopub.status.idle": "2024-07-30T19:37:49.349822Z",
     "shell.execute_reply": "2024-07-30T19:37:49.348441Z",
     "shell.execute_reply.started": "2024-07-30T19:37:49.341222Z"
    }
   },
   "outputs": [
    {
     "data": {
      "text/plain": [
       "[28820, 28855, 28860, 28874, 28887, 28944, 28959, 28984, 28986, 29011]"
      ]
     },
     "execution_count": 12,
     "metadata": {},
     "output_type": "execute_result"
    }
   ],
   "source": [
    "# 从 8 点开始的第一秒算起\n",
    "# 当某一秒有用户到达时，记录一下\n",
    "\n",
    "def gen_time_list(sample_num, init_t):\n",
    "    i = 0\n",
    "    t = init_t\n",
    "    time_list = []\n",
    "    while i < sample_num:\n",
    "        lam = lambda_func(t, epsilon)\n",
    "        if random.random() < lam:\n",
    "            # 用户到达\n",
    "            i += 1\n",
    "            time_list.append(t)\n",
    "        t += 1\n",
    "\n",
    "    return time_list\n",
    "\n",
    "\n",
    "time_list = gen_time_list(sample_num=10,\n",
    "                          init_t=8*60*60)\n",
    "time_list"
   ]
  },
  {
   "cell_type": "code",
   "execution_count": 13,
   "id": "2d6c2d40-4242-487a-b253-2eacddab40c6",
   "metadata": {
    "execution": {
     "iopub.execute_input": "2024-07-30T19:37:49.351928Z",
     "iopub.status.busy": "2024-07-30T19:37:49.351315Z",
     "iopub.status.idle": "2024-07-30T19:37:49.359241Z",
     "shell.execute_reply": "2024-07-30T19:37:49.358221Z",
     "shell.execute_reply.started": "2024-07-30T19:37:49.351897Z"
    }
   },
   "outputs": [
    {
     "data": {
      "text/plain": [
       "[('2024-07-31 11:38:09', 1722397089),\n",
       " ('2024-07-31 11:38:44', 1722397124),\n",
       " ('2024-07-31 11:38:49', 1722397129),\n",
       " ('2024-07-31 11:39:03', 1722397143),\n",
       " ('2024-07-31 11:39:16', 1722397156),\n",
       " ('2024-07-31 11:40:13', 1722397213),\n",
       " ('2024-07-31 11:40:28', 1722397228),\n",
       " ('2024-07-31 11:40:53', 1722397253),\n",
       " ('2024-07-31 11:40:55', 1722397255),\n",
       " ('2024-07-31 11:41:20', 1722397280)]"
      ]
     },
     "execution_count": 13,
     "metadata": {},
     "output_type": "execute_result"
    }
   ],
   "source": [
    "def seconds_to_datetime(seconds):\n",
    "    t = (datetime.datetime.now() + datetime.timedelta(seconds=seconds))\n",
    "    return t.strftime(\"%Y-%m-%d %H:%M:%S\"), int(t.timestamp())\n",
    "\n",
    "[seconds_to_datetime(e) for e in time_list]"
   ]
  },
  {
   "cell_type": "markdown",
   "id": "25b17968-3b7b-4035-a144-6fba569e81c0",
   "metadata": {},
   "source": [
    "写一个函数，统合以上功能"
   ]
  },
  {
   "cell_type": "code",
   "execution_count": 14,
   "id": "b45b847d-3bc1-4b91-aa8a-134924ed9679",
   "metadata": {
    "execution": {
     "iopub.execute_input": "2024-07-30T19:37:49.360900Z",
     "iopub.status.busy": "2024-07-30T19:37:49.360505Z",
     "iopub.status.idle": "2024-07-30T19:37:49.387838Z",
     "shell.execute_reply": "2024-07-30T19:37:49.387170Z",
     "shell.execute_reply.started": "2024-07-30T19:37:49.360866Z"
    }
   },
   "outputs": [
    {
     "data": {
      "text/html": [
       "<div>\n",
       "<style scoped>\n",
       "    .dataframe tbody tr th:only-of-type {\n",
       "        vertical-align: middle;\n",
       "    }\n",
       "\n",
       "    .dataframe tbody tr th {\n",
       "        vertical-align: top;\n",
       "    }\n",
       "\n",
       "    .dataframe thead th {\n",
       "        text-align: right;\n",
       "    }\n",
       "</style>\n",
       "<table border=\"1\" class=\"dataframe\">\n",
       "  <thead>\n",
       "    <tr style=\"text-align: right;\">\n",
       "      <th></th>\n",
       "      <th>time</th>\n",
       "      <th>timestamp</th>\n",
       "    </tr>\n",
       "  </thead>\n",
       "  <tbody>\n",
       "    <tr>\n",
       "      <th>0</th>\n",
       "      <td>2024-07-31 11:37:52</td>\n",
       "      <td>1722397072</td>\n",
       "    </tr>\n",
       "    <tr>\n",
       "      <th>1</th>\n",
       "      <td>2024-07-31 11:37:57</td>\n",
       "      <td>1722397077</td>\n",
       "    </tr>\n",
       "    <tr>\n",
       "      <th>2</th>\n",
       "      <td>2024-07-31 11:38:15</td>\n",
       "      <td>1722397095</td>\n",
       "    </tr>\n",
       "    <tr>\n",
       "      <th>3</th>\n",
       "      <td>2024-07-31 11:38:26</td>\n",
       "      <td>1722397106</td>\n",
       "    </tr>\n",
       "    <tr>\n",
       "      <th>4</th>\n",
       "      <td>2024-07-31 11:38:47</td>\n",
       "      <td>1722397127</td>\n",
       "    </tr>\n",
       "    <tr>\n",
       "      <th>...</th>\n",
       "      <td>...</td>\n",
       "      <td>...</td>\n",
       "    </tr>\n",
       "    <tr>\n",
       "      <th>195</th>\n",
       "      <td>2024-07-31 12:25:51</td>\n",
       "      <td>1722399951</td>\n",
       "    </tr>\n",
       "    <tr>\n",
       "      <th>196</th>\n",
       "      <td>2024-07-31 12:26:22</td>\n",
       "      <td>1722399982</td>\n",
       "    </tr>\n",
       "    <tr>\n",
       "      <th>197</th>\n",
       "      <td>2024-07-31 12:26:42</td>\n",
       "      <td>1722400002</td>\n",
       "    </tr>\n",
       "    <tr>\n",
       "      <th>198</th>\n",
       "      <td>2024-07-31 12:27:09</td>\n",
       "      <td>1722400029</td>\n",
       "    </tr>\n",
       "    <tr>\n",
       "      <th>199</th>\n",
       "      <td>2024-07-31 12:27:11</td>\n",
       "      <td>1722400031</td>\n",
       "    </tr>\n",
       "  </tbody>\n",
       "</table>\n",
       "<p>200 rows × 2 columns</p>\n",
       "</div>"
      ],
      "text/plain": [
       "                    time   timestamp\n",
       "0    2024-07-31 11:37:52  1722397072\n",
       "1    2024-07-31 11:37:57  1722397077\n",
       "2    2024-07-31 11:38:15  1722397095\n",
       "3    2024-07-31 11:38:26  1722397106\n",
       "4    2024-07-31 11:38:47  1722397127\n",
       "..                   ...         ...\n",
       "195  2024-07-31 12:25:51  1722399951\n",
       "196  2024-07-31 12:26:22  1722399982\n",
       "197  2024-07-31 12:26:42  1722400002\n",
       "198  2024-07-31 12:27:09  1722400029\n",
       "199  2024-07-31 12:27:11  1722400031\n",
       "\n",
       "[200 rows x 2 columns]"
      ]
     },
     "execution_count": 14,
     "metadata": {},
     "output_type": "execute_result"
    }
   ],
   "source": [
    "def gen_time(sample_num, init_t):\n",
    "    \"\"\"生成时间与时间戳\n",
    "\n",
    "    :param sample_num: 样本量\n",
    "    :param init_t: 初始秒数\n",
    "    \"\"\"\n",
    "\n",
    "    # 一天的秒数\n",
    "    sec = 24 * 60 * 60\n",
    "\n",
    "    # 一个期望值很小的均匀分布\n",
    "    epsilon = np.random.uniform(low=0.0, high=0.01, size=sec)\n",
    "\n",
    "    def lambda_func(t: int, epsilon: list, k: float = 1):\n",
    "        \"\"\"泊松分布的 lambda 关于时间 t 的函数\n",
    "        :param t: 一天中的时间，单位是秒\n",
    "        :param epsilon: 扰动项\n",
    "        :param k: 放缩系数\n",
    "        \"\"\"\n",
    "        t = t % sec\n",
    "        e = epsilon[t]\n",
    "        y = 0.1-(t-(sec/2))**2/(9*10**9)\n",
    "        y = 0 if y < 0 else round(y, 5)\n",
    "        return k * (y + e)\n",
    "\n",
    "    def seconds_to_datetime(seconds):\n",
    "        t = (datetime.datetime.now() + datetime.timedelta(seconds=seconds))\n",
    "        return t.strftime(\"%Y-%m-%d %H:%M:%S\"), int(t.timestamp())\n",
    "\n",
    "    i = 0  # 访问次数计数\n",
    "    t = init_t  # 时间计数（秒）\n",
    "    time_list = []\n",
    "    while i < sample_num:\n",
    "        lam = lambda_func(t, epsilon, k=0.8)\n",
    "        if random.random() < lam:\n",
    "            # 用户到达\n",
    "            i += 1\n",
    "            time_list.append(t)\n",
    "        t += 1\n",
    "\n",
    "    date_dict = collections.defaultdict(list)\n",
    "    for e in time_list:\n",
    "        time_str, time_stamp = seconds_to_datetime(e)\n",
    "        date_dict['time'].append(time_str)\n",
    "        date_dict['timestamp'].append(time_stamp)\n",
    "\n",
    "    return pd.DataFrame(date_dict)\n",
    "\n",
    "\n",
    "gen_time(sample_num=200, init_t=8*60*60)"
   ]
  },
  {
   "cell_type": "markdown",
   "id": "c97618f5-a471-4f55-9b01-9d872d98693b",
   "metadata": {},
   "source": [
    "### 2.4 用户日志表\n",
    "\n",
    "我们已经拥有足够的工具，来模拟生成一份用户日志表。"
   ]
  },
  {
   "cell_type": "code",
   "execution_count": 15,
   "id": "f0ee86ca-1960-48af-ab22-6b1f418d42ca",
   "metadata": {
    "execution": {
     "iopub.execute_input": "2024-07-30T19:37:49.389306Z",
     "iopub.status.busy": "2024-07-30T19:37:49.388829Z",
     "iopub.status.idle": "2024-07-30T19:37:49.448567Z",
     "shell.execute_reply": "2024-07-30T19:37:49.447936Z",
     "shell.execute_reply.started": "2024-07-30T19:37:49.389279Z"
    }
   },
   "outputs": [
    {
     "data": {
      "text/html": [
       "<div>\n",
       "<style scoped>\n",
       "    .dataframe tbody tr th:only-of-type {\n",
       "        vertical-align: middle;\n",
       "    }\n",
       "\n",
       "    .dataframe tbody tr th {\n",
       "        vertical-align: top;\n",
       "    }\n",
       "\n",
       "    .dataframe thead th {\n",
       "        text-align: right;\n",
       "    }\n",
       "</style>\n",
       "<table border=\"1\" class=\"dataframe\">\n",
       "  <thead>\n",
       "    <tr style=\"text-align: right;\">\n",
       "      <th></th>\n",
       "      <th>uid</th>\n",
       "      <th>ipv4</th>\n",
       "      <th>time</th>\n",
       "      <th>timestamp</th>\n",
       "    </tr>\n",
       "  </thead>\n",
       "  <tbody>\n",
       "    <tr>\n",
       "      <th>0</th>\n",
       "      <td>414</td>\n",
       "      <td>0.99.111.217</td>\n",
       "      <td>2024-07-31 11:37:53</td>\n",
       "      <td>1722397073</td>\n",
       "    </tr>\n",
       "    <tr>\n",
       "      <th>1</th>\n",
       "      <td>402</td>\n",
       "      <td>102.242.163.20</td>\n",
       "      <td>2024-07-31 11:38:19</td>\n",
       "      <td>1722397099</td>\n",
       "    </tr>\n",
       "    <tr>\n",
       "      <th>2</th>\n",
       "      <td>420</td>\n",
       "      <td>198.114.211.215</td>\n",
       "      <td>2024-07-31 11:38:25</td>\n",
       "      <td>1722397105</td>\n",
       "    </tr>\n",
       "    <tr>\n",
       "      <th>3</th>\n",
       "      <td>85</td>\n",
       "      <td>105.159.222.43</td>\n",
       "      <td>2024-07-31 11:39:11</td>\n",
       "      <td>1722397151</td>\n",
       "    </tr>\n",
       "    <tr>\n",
       "      <th>4</th>\n",
       "      <td>137</td>\n",
       "      <td>79.230.162.204</td>\n",
       "      <td>2024-07-31 11:39:16</td>\n",
       "      <td>1722397156</td>\n",
       "    </tr>\n",
       "    <tr>\n",
       "      <th>...</th>\n",
       "      <td>...</td>\n",
       "      <td>...</td>\n",
       "      <td>...</td>\n",
       "      <td>...</td>\n",
       "    </tr>\n",
       "    <tr>\n",
       "      <th>2010</th>\n",
       "      <td>509</td>\n",
       "      <td>225.227.56.157</td>\n",
       "      <td>2024-07-31 18:34:02</td>\n",
       "      <td>1722422042</td>\n",
       "    </tr>\n",
       "    <tr>\n",
       "      <th>2011</th>\n",
       "      <td>118</td>\n",
       "      <td>46.80.254.56</td>\n",
       "      <td>2024-07-31 18:34:03</td>\n",
       "      <td>1722422043</td>\n",
       "    </tr>\n",
       "    <tr>\n",
       "      <th>2012</th>\n",
       "      <td>436</td>\n",
       "      <td>199.125.117.155</td>\n",
       "      <td>2024-07-31 18:34:07</td>\n",
       "      <td>1722422047</td>\n",
       "    </tr>\n",
       "    <tr>\n",
       "      <th>2013</th>\n",
       "      <td>173</td>\n",
       "      <td>105.178.116.45</td>\n",
       "      <td>2024-07-31 18:34:26</td>\n",
       "      <td>1722422066</td>\n",
       "    </tr>\n",
       "    <tr>\n",
       "      <th>2014</th>\n",
       "      <td>963</td>\n",
       "      <td>104.174.156.131</td>\n",
       "      <td>2024-07-31 18:34:36</td>\n",
       "      <td>1722422076</td>\n",
       "    </tr>\n",
       "  </tbody>\n",
       "</table>\n",
       "<p>2015 rows × 4 columns</p>\n",
       "</div>"
      ],
      "text/plain": [
       "      uid             ipv4                 time   timestamp\n",
       "0     414     0.99.111.217  2024-07-31 11:37:53  1722397073\n",
       "1     402   102.242.163.20  2024-07-31 11:38:19  1722397099\n",
       "2     420  198.114.211.215  2024-07-31 11:38:25  1722397105\n",
       "3      85   105.159.222.43  2024-07-31 11:39:11  1722397151\n",
       "4     137   79.230.162.204  2024-07-31 11:39:16  1722397156\n",
       "...   ...              ...                  ...         ...\n",
       "2010  509   225.227.56.157  2024-07-31 18:34:02  1722422042\n",
       "2011  118     46.80.254.56  2024-07-31 18:34:03  1722422043\n",
       "2012  436  199.125.117.155  2024-07-31 18:34:07  1722422047\n",
       "2013  173   105.178.116.45  2024-07-31 18:34:26  1722422066\n",
       "2014  963  104.174.156.131  2024-07-31 18:34:36  1722422076\n",
       "\n",
       "[2015 rows x 4 columns]"
      ]
     },
     "execution_count": 15,
     "metadata": {},
     "output_type": "execute_result"
    }
   ],
   "source": [
    "# 生成 uid 和 ip\n",
    "user_table = gen_user_table(uid_num=1000,\n",
    "                            poisson_lambda=2,\n",
    "                            ip_scale=0.5,\n",
    "                            ip_bins=800)\n",
    "\n",
    "# 将 uid 和 ip 的 index 随机化\n",
    "user_table = user_table.sample(frac=1, random_state=37).reset_index(drop=True)\n",
    "\n",
    "# 生成 时间 和 时间戳\n",
    "time_table = gen_time(sample_num=len(user_table), init_t=8*60*60)\n",
    "\n",
    "# 将两张表 concat 起来\n",
    "user_df = pd.concat([user_table, time_table], axis=1)\n",
    "\n",
    "# 按时间戳排序\n",
    "sorted_user_df = user_df.sort_values(by='timestamp', ascending=True)\n",
    "\n",
    "sorted_user_df"
   ]
  },
  {
   "cell_type": "markdown",
   "id": "3f5675d2-c925-44d7-ae3d-08e9f748cdc4",
   "metadata": {},
   "source": [
    "把以上代码写入 `utils.py`，再用 utils 计算 `user_df`"
   ]
  },
  {
   "cell_type": "code",
   "execution_count": 16,
   "id": "26312317-a94b-4806-85ff-8bf7cd19812b",
   "metadata": {
    "execution": {
     "iopub.execute_input": "2024-07-30T19:37:49.449947Z",
     "iopub.status.busy": "2024-07-30T19:37:49.449673Z",
     "iopub.status.idle": "2024-07-30T19:37:49.512335Z",
     "shell.execute_reply": "2024-07-30T19:37:49.511666Z",
     "shell.execute_reply.started": "2024-07-30T19:37:49.449925Z"
    }
   },
   "outputs": [
    {
     "data": {
      "text/html": [
       "<div>\n",
       "<style scoped>\n",
       "    .dataframe tbody tr th:only-of-type {\n",
       "        vertical-align: middle;\n",
       "    }\n",
       "\n",
       "    .dataframe tbody tr th {\n",
       "        vertical-align: top;\n",
       "    }\n",
       "\n",
       "    .dataframe thead th {\n",
       "        text-align: right;\n",
       "    }\n",
       "</style>\n",
       "<table border=\"1\" class=\"dataframe\">\n",
       "  <thead>\n",
       "    <tr style=\"text-align: right;\">\n",
       "      <th></th>\n",
       "      <th>uid</th>\n",
       "      <th>ipv4</th>\n",
       "      <th>time</th>\n",
       "      <th>timestamp</th>\n",
       "    </tr>\n",
       "  </thead>\n",
       "  <tbody>\n",
       "    <tr>\n",
       "      <th>0</th>\n",
       "      <td>851</td>\n",
       "      <td>98.245.3.124</td>\n",
       "      <td>2024-07-31 11:37:55</td>\n",
       "      <td>1722397075</td>\n",
       "    </tr>\n",
       "    <tr>\n",
       "      <th>1</th>\n",
       "      <td>227</td>\n",
       "      <td>253.155.228.78</td>\n",
       "      <td>2024-07-31 11:38:18</td>\n",
       "      <td>1722397098</td>\n",
       "    </tr>\n",
       "    <tr>\n",
       "      <th>2</th>\n",
       "      <td>240</td>\n",
       "      <td>3.114.70.213</td>\n",
       "      <td>2024-07-31 11:38:37</td>\n",
       "      <td>1722397117</td>\n",
       "    </tr>\n",
       "    <tr>\n",
       "      <th>3</th>\n",
       "      <td>972</td>\n",
       "      <td>32.107.120.156</td>\n",
       "      <td>2024-07-31 11:38:52</td>\n",
       "      <td>1722397132</td>\n",
       "    </tr>\n",
       "    <tr>\n",
       "      <th>4</th>\n",
       "      <td>915</td>\n",
       "      <td>254.252.255.168</td>\n",
       "      <td>2024-07-31 11:39:00</td>\n",
       "      <td>1722397140</td>\n",
       "    </tr>\n",
       "    <tr>\n",
       "      <th>...</th>\n",
       "      <td>...</td>\n",
       "      <td>...</td>\n",
       "      <td>...</td>\n",
       "      <td>...</td>\n",
       "    </tr>\n",
       "    <tr>\n",
       "      <th>2002</th>\n",
       "      <td>503</td>\n",
       "      <td>118.219.88.27</td>\n",
       "      <td>2024-07-31 18:50:19</td>\n",
       "      <td>1722423019</td>\n",
       "    </tr>\n",
       "    <tr>\n",
       "      <th>2003</th>\n",
       "      <td>133</td>\n",
       "      <td>125.54.141.195</td>\n",
       "      <td>2024-07-31 18:50:29</td>\n",
       "      <td>1722423029</td>\n",
       "    </tr>\n",
       "    <tr>\n",
       "      <th>2004</th>\n",
       "      <td>425</td>\n",
       "      <td>157.168.234.253</td>\n",
       "      <td>2024-07-31 18:50:37</td>\n",
       "      <td>1722423037</td>\n",
       "    </tr>\n",
       "    <tr>\n",
       "      <th>2005</th>\n",
       "      <td>183</td>\n",
       "      <td>53.120.190.145</td>\n",
       "      <td>2024-07-31 18:50:42</td>\n",
       "      <td>1722423042</td>\n",
       "    </tr>\n",
       "    <tr>\n",
       "      <th>2006</th>\n",
       "      <td>967</td>\n",
       "      <td>141.176.24.202</td>\n",
       "      <td>2024-07-31 18:51:06</td>\n",
       "      <td>1722423066</td>\n",
       "    </tr>\n",
       "  </tbody>\n",
       "</table>\n",
       "<p>2007 rows × 4 columns</p>\n",
       "</div>"
      ],
      "text/plain": [
       "      uid             ipv4                 time   timestamp\n",
       "0     851     98.245.3.124  2024-07-31 11:37:55  1722397075\n",
       "1     227   253.155.228.78  2024-07-31 11:38:18  1722397098\n",
       "2     240     3.114.70.213  2024-07-31 11:38:37  1722397117\n",
       "3     972   32.107.120.156  2024-07-31 11:38:52  1722397132\n",
       "4     915  254.252.255.168  2024-07-31 11:39:00  1722397140\n",
       "...   ...              ...                  ...         ...\n",
       "2002  503    118.219.88.27  2024-07-31 18:50:19  1722423019\n",
       "2003  133   125.54.141.195  2024-07-31 18:50:29  1722423029\n",
       "2004  425  157.168.234.253  2024-07-31 18:50:37  1722423037\n",
       "2005  183   53.120.190.145  2024-07-31 18:50:42  1722423042\n",
       "2006  967   141.176.24.202  2024-07-31 18:51:06  1722423066\n",
       "\n",
       "[2007 rows x 4 columns]"
      ]
     },
     "execution_count": 16,
     "metadata": {},
     "output_type": "execute_result"
    }
   ],
   "source": [
    "user_df = utils.gen_user_df()\n",
    "user_df"
   ]
  },
  {
   "cell_type": "markdown",
   "id": "caef30a6-93a9-44b7-bd28-75dbfa9b0181",
   "metadata": {},
   "source": [
    "## 3. 生成异常数据\n",
    "\n",
    "我们假设：\n",
    "\n",
    "- 异常数据有固定的起停时间，攻击持续时间为 2 小时\n",
    "- 异常数据使用的 ip 集有限，有 50 个无重复 ip \n",
    "\n",
    "### 3.1 选择攻击开始时间"
   ]
  },
  {
   "cell_type": "code",
   "execution_count": 17,
   "id": "42b95e1f-e0b7-40c7-87f6-a65a67418419",
   "metadata": {
    "execution": {
     "iopub.execute_input": "2024-07-30T19:37:49.513938Z",
     "iopub.status.busy": "2024-07-30T19:37:49.513564Z",
     "iopub.status.idle": "2024-07-30T19:37:49.537049Z",
     "shell.execute_reply": "2024-07-30T19:37:49.535879Z",
     "shell.execute_reply.started": "2024-07-30T19:37:49.513917Z"
    }
   },
   "outputs": [
    {
     "data": {
      "text/plain": [
       "datetime.datetime(2024, 7, 31, 15, 57, 55)"
      ]
     },
     "execution_count": 17,
     "metadata": {},
     "output_type": "execute_result"
    }
   ],
   "source": [
    "def calc_attack_start_time(attack_duration, start_time, end_time):\n",
    "    \"\"\"随机选择攻击开始时间\"\"\"\n",
    "\n",
    "    total_seconds = int((end_time - start_time).total_seconds())\n",
    "    assert total_seconds > attack_duration\n",
    "    total_seconds -= attack_duration\n",
    "    random_seconds = random.randint(0, total_seconds)\n",
    "    attack_start_time = start_time +  datetime.timedelta(seconds=random_seconds)\n",
    "\n",
    "    return attack_start_time\n",
    "\n",
    "\n",
    "# 攻击持续时间\n",
    "attack_duration = 120 * 60\n",
    "\n",
    "# 计算日志时间范围\n",
    "t = [datetime.datetime.strptime(e, \"%Y-%m-%d %H:%M:%S\") for e in user_df['time']]\n",
    "start_time = min(t)\n",
    "end_time = max(t)\n",
    "\n",
    "# 计算攻击开始时间\n",
    "attack_start_time = calc_attack_start_time(attack_duration, start_time, end_time)\n",
    "attack_start_time"
   ]
  },
  {
   "cell_type": "markdown",
   "id": "6305312c-99f7-49c4-8f83-dfa42b574618",
   "metadata": {},
   "source": [
    "### 3.2 获取 ip 池\n",
    "\n",
    "现实世界中，异常数据和大盘数据往往会共用一些介质。\n",
    "\n",
    "为了模拟这种现象，从大盘 ip 中随机取 配额中 1/5 的 ip，作为异常数据 ip 池中的元素"
   ]
  },
  {
   "cell_type": "code",
   "execution_count": 18,
   "id": "dc3612cc-3d08-4e83-9226-c07c5f79d9ed",
   "metadata": {
    "execution": {
     "iopub.execute_input": "2024-07-30T19:37:49.538570Z",
     "iopub.status.busy": "2024-07-30T19:37:49.538251Z",
     "iopub.status.idle": "2024-07-30T19:37:49.545434Z",
     "shell.execute_reply": "2024-07-30T19:37:49.543959Z",
     "shell.execute_reply.started": "2024-07-30T19:37:49.538548Z"
    }
   },
   "outputs": [],
   "source": [
    "def gen_ip_set(ip_num, normal_ip_list, normal_ip_rate):\n",
    "    \"\"\"获取 ip 池\n",
    "\n",
    "    :param ip_num: ip 总数\n",
    "    :param normal_ip_list: 大盘 ip 列表 \n",
    "    :param normal_ip_rate: 坏人的 ip 池与大盘重合的比例\n",
    "    \"\"\"\n",
    "    repeat_num = int(ip_num * normal_ip_rate)\n",
    "    assert len(normal_ip_list) >= repeat_num\n",
    "    ip_set = set(random.sample(normal_ip_list, repeat_num))\n",
    "\n",
    "    # 不足的用 gen_feature 方法补足\n",
    "    rest = ip_num - repeat_num\n",
    "    s = Source() \n",
    "    ip_set |= set(s.gen_feature(func=Info.IP_V4,\n",
    "                                size=rest,\n",
    "                                max_tries=1000))\n",
    "\n",
    "    assert len(ip_set) == ip_num\n",
    "\n",
    "    return ip_set\n",
    "\n",
    "\n",
    "ip_set = gen_ip_set(ip_num=50,\n",
    "                    normal_ip_list=list(set(user_df['ipv4'])),\n",
    "                    normal_ip_rate=0.2)"
   ]
  },
  {
   "cell_type": "markdown",
   "id": "a4255bf9-3438-4523-9bac-c71391cf7a88",
   "metadata": {},
   "source": [
    "### 3.3 发起攻击\n",
    "\n",
    "我们的攻击策略是：\n",
    "\n",
    "- 使用 6 个线程\n",
    "- 每次攻击从 ip 池中随机挑选一个 ip\n",
    "- 单个线程的攻击间隔为 30 - 150 秒\n",
    "- 每次攻击有 1/8 的概率复用“之前”使用过的uid"
   ]
  },
  {
   "cell_type": "code",
   "execution_count": 19,
   "id": "1c9ea1d0-7aa4-41c7-bf49-1124b4313995",
   "metadata": {
    "execution": {
     "iopub.execute_input": "2024-07-30T19:37:49.547842Z",
     "iopub.status.busy": "2024-07-30T19:37:49.547362Z",
     "iopub.status.idle": "2024-07-30T19:37:49.559446Z",
     "shell.execute_reply": "2024-07-30T19:37:49.558427Z",
     "shell.execute_reply.started": "2024-07-30T19:37:49.547811Z"
    }
   },
   "outputs": [
    {
     "data": {
      "text/plain": [
       "[('195.159.121.0', 55),\n",
       " ('47.156.60.142', 176),\n",
       " ('33.66.76.157', 300),\n",
       " ('113.233.29.193', 414),\n",
       " ('108.163.158.250', 459),\n",
       " ('170.118.124.203', 603),\n",
       " ('113.233.29.193', 633),\n",
       " ('212.25.125.60', 756),\n",
       " ('42.220.78.237', 879),\n",
       " ('42.220.78.237', 982),\n",
       " ('146.14.168.220', 1111),\n",
       " ('208.153.37.100', 1213),\n",
       " ('165.57.226.2', 1337),\n",
       " ('194.177.18.7', 1483),\n",
       " ('42.220.78.237', 1528),\n",
       " ('27.34.208.245', 1609),\n",
       " ('197.89.77.194', 1653),\n",
       " ('32.165.66.240', 1762),\n",
       " ('158.44.44.134', 1876),\n",
       " ('199.99.2.160', 1974),\n",
       " ('9.83.17.10', 2063),\n",
       " ('120.225.57.64', 2182),\n",
       " ('158.44.44.134', 2231),\n",
       " ('33.66.76.157', 2372),\n",
       " ('117.131.81.95', 2495),\n",
       " ('117.131.81.95', 2539),\n",
       " ('32.165.66.240', 2651),\n",
       " ('165.57.226.2', 2738),\n",
       " ('153.38.187.169', 2863),\n",
       " ('33.66.76.157', 2935),\n",
       " ('157.184.37.246', 3075),\n",
       " ('175.227.245.96', 3127),\n",
       " ('78.105.155.128', 3242),\n",
       " ('212.25.125.60', 3318),\n",
       " ('32.165.66.240', 3402),\n",
       " ('76.27.222.101', 3505),\n",
       " ('51.92.205.0', 3569),\n",
       " ('100.100.108.62', 3672),\n",
       " ('141.217.249.69', 3722),\n",
       " ('146.14.168.220', 3838),\n",
       " ('117.131.81.95', 3917),\n",
       " ('197.89.77.194', 4027),\n",
       " ('100.227.138.78', 4067),\n",
       " ('18.45.200.81', 4097),\n",
       " ('33.66.76.157', 4240),\n",
       " ('27.34.208.245', 4309),\n",
       " ('235.14.138.97', 4442),\n",
       " ('33.66.76.157', 4496),\n",
       " ('194.177.216.123', 4641),\n",
       " ('117.131.81.95', 4710),\n",
       " ('100.227.138.78', 4751),\n",
       " ('185.108.133.100', 4803),\n",
       " ('212.25.125.60', 4891),\n",
       " ('199.99.2.160', 4943),\n",
       " ('240.225.91.236', 4997),\n",
       " ('77.197.15.206', 5042),\n",
       " ('157.184.37.246', 5130),\n",
       " ('57.22.233.232', 5200),\n",
       " ('153.38.187.169', 5255),\n",
       " ('51.92.205.0', 5333),\n",
       " ('197.89.77.194', 5415),\n",
       " ('146.14.168.220', 5475),\n",
       " ('77.197.15.206', 5516),\n",
       " ('185.108.133.100', 5665),\n",
       " ('208.153.37.100', 5801),\n",
       " ('194.177.216.123', 5834),\n",
       " ('18.45.200.81', 5942),\n",
       " ('18.45.200.81', 6074),\n",
       " ('120.225.57.64', 6143),\n",
       " ('27.34.208.245', 6188),\n",
       " ('150.99.175.14', 6276),\n",
       " ('50.58.38.170', 6360),\n",
       " ('158.44.44.134', 6452),\n",
       " ('36.90.203.147', 6482),\n",
       " ('36.90.203.147', 6630),\n",
       " ('197.89.77.194', 6778),\n",
       " ('185.108.133.100', 6874),\n",
       " ('117.131.81.95', 6930),\n",
       " ('146.14.168.220', 7034),\n",
       " ('201.38.170.124', 7085),\n",
       " ('37.26.99.159', 7127),\n",
       " ('170.118.124.203', 7221)]"
      ]
     },
     "execution_count": 19,
     "metadata": {},
     "output_type": "execute_result"
    }
   ],
   "source": [
    "def attack(attack_duration, ip_set, min_t, max_t):\n",
    "    \"\"\"记录攻击 ip 和 攻击秒数\"\"\"\n",
    "    t = 0\n",
    "    assert max_t > min_t\n",
    "    t_diff = max_t - min_t\n",
    "    ip_list = list(ip_set)\n",
    "    log = []\n",
    "    while t < attack_duration:\n",
    "        stop_time = min_t + int(t_diff * random.random())\n",
    "        t += stop_time\n",
    "        ip = random.sample(ip_list, 1)[0]\n",
    "        log.append((ip, t))\n",
    "\n",
    "    return log\n",
    "\n",
    "\n",
    "attack(attack_duration, ip_set, min_t=30, max_t=150)"
   ]
  },
  {
   "cell_type": "code",
   "execution_count": 20,
   "id": "10d3103f-554d-42de-9015-3f0f3a95968d",
   "metadata": {
    "execution": {
     "iopub.execute_input": "2024-07-30T19:37:49.561761Z",
     "iopub.status.busy": "2024-07-30T19:37:49.560868Z",
     "iopub.status.idle": "2024-07-30T19:37:49.591998Z",
     "shell.execute_reply": "2024-07-30T19:37:49.591334Z",
     "shell.execute_reply.started": "2024-07-30T19:37:49.561705Z"
    }
   },
   "outputs": [],
   "source": [
    "def gen_attack_df(attack_duration, start_time, end_time, ip_num, normal_ip_list, normal_ip_rate,\n",
    "                  uid_repeat_rate, min_t, max_t, epoch):\n",
    "    \"\"\"生成攻击日志\"\"\"\n",
    "    attack_dict = collections.defaultdict(list)\n",
    "\n",
    "    attack_start_time = calc_attack_start_time(attack_duration, start_time, end_time)\n",
    "\n",
    "    ip_set = gen_ip_set(ip_num=ip_num,\n",
    "                        normal_ip_list=normal_ip_list,\n",
    "                        normal_ip_rate=normal_ip_rate)\n",
    "\n",
    "    uid = -1\n",
    "    for _ in range(epoch):\n",
    "        log = attack(attack_duration, ip_set, min_t, max_t)\n",
    "        for ip, attack_seconds in log:\n",
    "\n",
    "            # uid 有 uid_repeat_rate 的概率复用之前用过的 uid\n",
    "            if random.random() < uid_repeat_rate:\n",
    "                uid = random.sample(range(uid, 0), 1)[0]\n",
    "            else:\n",
    "                uid -= 1\n",
    "\n",
    "            attack_dict['uid'].append(uid)\n",
    "            attack_dict['ipv4'].append(ip)\n",
    "    \n",
    "            attack_time = attack_start_time + datetime.timedelta(seconds=attack_seconds)\n",
    "            attack_dict['time'].append(attack_time.strftime(\"%Y-%m-%d %H:%M:%S\"))\n",
    "            attack_dict['timestamp'].append(int(attack_time.timestamp()))\n",
    "\n",
    "    return pd.DataFrame(attack_dict)\n",
    "\n",
    "\n",
    "# 计算日志时间范围\n",
    "t = [datetime.datetime.strptime(e, \"%Y-%m-%d %H:%M:%S\") for e in user_df['time']]\n",
    "\n",
    "attack_df = gen_attack_df(attack_duration=120*60,\n",
    "                          start_time=min(t),\n",
    "                          end_time=max(t),\n",
    "                          ip_num=50,\n",
    "                          normal_ip_list=list(set(user_df['ipv4'])),\n",
    "                          normal_ip_rate=0.2,\n",
    "                          uid_repeat_rate=0.125,\n",
    "                          min_t=30,\n",
    "                          max_t=150,\n",
    "                          epoch=6)\n",
    "\n",
    "# attack_df"
   ]
  },
  {
   "cell_type": "markdown",
   "id": "7c4ba959-b1a5-4a5d-a41d-8e727db35b5d",
   "metadata": {},
   "source": [
    "同样，我们把生成异常数据的函数写入 `utils.py`，再用它生成一次"
   ]
  },
  {
   "cell_type": "code",
   "execution_count": 21,
   "id": "976cf09a-9d6f-4fc7-8388-6c6d566cf258",
   "metadata": {
    "execution": {
     "iopub.execute_input": "2024-07-30T19:37:49.593974Z",
     "iopub.status.busy": "2024-07-30T19:37:49.593638Z",
     "iopub.status.idle": "2024-07-30T19:37:49.623664Z",
     "shell.execute_reply": "2024-07-30T19:37:49.622832Z",
     "shell.execute_reply.started": "2024-07-30T19:37:49.593952Z"
    }
   },
   "outputs": [
    {
     "data": {
      "text/html": [
       "<div>\n",
       "<style scoped>\n",
       "    .dataframe tbody tr th:only-of-type {\n",
       "        vertical-align: middle;\n",
       "    }\n",
       "\n",
       "    .dataframe tbody tr th {\n",
       "        vertical-align: top;\n",
       "    }\n",
       "\n",
       "    .dataframe thead th {\n",
       "        text-align: right;\n",
       "    }\n",
       "</style>\n",
       "<table border=\"1\" class=\"dataframe\">\n",
       "  <thead>\n",
       "    <tr style=\"text-align: right;\">\n",
       "      <th></th>\n",
       "      <th>uid</th>\n",
       "      <th>ipv4</th>\n",
       "      <th>time</th>\n",
       "      <th>timestamp</th>\n",
       "    </tr>\n",
       "  </thead>\n",
       "  <tbody>\n",
       "    <tr>\n",
       "      <th>0</th>\n",
       "      <td>-2</td>\n",
       "      <td>13.142.102.209</td>\n",
       "      <td>2024-07-31 12:25:42</td>\n",
       "      <td>1722399942</td>\n",
       "    </tr>\n",
       "    <tr>\n",
       "      <th>1</th>\n",
       "      <td>-3</td>\n",
       "      <td>221.172.224.133</td>\n",
       "      <td>2024-07-31 12:27:00</td>\n",
       "      <td>1722400020</td>\n",
       "    </tr>\n",
       "    <tr>\n",
       "      <th>2</th>\n",
       "      <td>-4</td>\n",
       "      <td>30.183.137.3</td>\n",
       "      <td>2024-07-31 12:29:16</td>\n",
       "      <td>1722400156</td>\n",
       "    </tr>\n",
       "    <tr>\n",
       "      <th>3</th>\n",
       "      <td>-5</td>\n",
       "      <td>109.198.249.119</td>\n",
       "      <td>2024-07-31 12:30:14</td>\n",
       "      <td>1722400214</td>\n",
       "    </tr>\n",
       "    <tr>\n",
       "      <th>4</th>\n",
       "      <td>-6</td>\n",
       "      <td>109.198.249.119</td>\n",
       "      <td>2024-07-31 12:32:05</td>\n",
       "      <td>1722400325</td>\n",
       "    </tr>\n",
       "    <tr>\n",
       "      <th>...</th>\n",
       "      <td>...</td>\n",
       "      <td>...</td>\n",
       "      <td>...</td>\n",
       "      <td>...</td>\n",
       "    </tr>\n",
       "    <tr>\n",
       "      <th>477</th>\n",
       "      <td>-3</td>\n",
       "      <td>86.251.32.14</td>\n",
       "      <td>2024-07-31 14:18:32</td>\n",
       "      <td>1722406712</td>\n",
       "    </tr>\n",
       "    <tr>\n",
       "      <th>478</th>\n",
       "      <td>-4</td>\n",
       "      <td>45.47.172.224</td>\n",
       "      <td>2024-07-31 14:19:12</td>\n",
       "      <td>1722406752</td>\n",
       "    </tr>\n",
       "    <tr>\n",
       "      <th>479</th>\n",
       "      <td>-5</td>\n",
       "      <td>30.183.137.3</td>\n",
       "      <td>2024-07-31 14:21:19</td>\n",
       "      <td>1722406879</td>\n",
       "    </tr>\n",
       "    <tr>\n",
       "      <th>480</th>\n",
       "      <td>-6</td>\n",
       "      <td>109.198.249.119</td>\n",
       "      <td>2024-07-31 14:22:48</td>\n",
       "      <td>1722406968</td>\n",
       "    </tr>\n",
       "    <tr>\n",
       "      <th>481</th>\n",
       "      <td>-7</td>\n",
       "      <td>0.35.26.39</td>\n",
       "      <td>2024-07-31 14:25:08</td>\n",
       "      <td>1722407108</td>\n",
       "    </tr>\n",
       "  </tbody>\n",
       "</table>\n",
       "<p>482 rows × 4 columns</p>\n",
       "</div>"
      ],
      "text/plain": [
       "     uid             ipv4                 time   timestamp\n",
       "0     -2   13.142.102.209  2024-07-31 12:25:42  1722399942\n",
       "1     -3  221.172.224.133  2024-07-31 12:27:00  1722400020\n",
       "2     -4     30.183.137.3  2024-07-31 12:29:16  1722400156\n",
       "3     -5  109.198.249.119  2024-07-31 12:30:14  1722400214\n",
       "4     -6  109.198.249.119  2024-07-31 12:32:05  1722400325\n",
       "..   ...              ...                  ...         ...\n",
       "477   -3     86.251.32.14  2024-07-31 14:18:32  1722406712\n",
       "478   -4    45.47.172.224  2024-07-31 14:19:12  1722406752\n",
       "479   -5     30.183.137.3  2024-07-31 14:21:19  1722406879\n",
       "480   -6  109.198.249.119  2024-07-31 14:22:48  1722406968\n",
       "481   -7       0.35.26.39  2024-07-31 14:25:08  1722407108\n",
       "\n",
       "[482 rows x 4 columns]"
      ]
     },
     "execution_count": 21,
     "metadata": {},
     "output_type": "execute_result"
    }
   ],
   "source": [
    "# 计算日志时间范围\n",
    "t = [datetime.datetime.strptime(e, \"%Y-%m-%d %H:%M:%S\") for e in user_df['time']]\n",
    "\n",
    "attack_df = utils.gen_attack_df(attack_duration=120*60,\n",
    "                                start_time=min(t),\n",
    "                                end_time=max(t),\n",
    "                                ip_num=50,\n",
    "                                normal_ip_list=list(set(user_df['ipv4'])),\n",
    "                                normal_ip_rate=0.2,\n",
    "                                uid_repeat_rate=0.125,\n",
    "                                min_t=30,\n",
    "                                max_t=150,\n",
    "                                epoch=6)\n",
    "\n",
    "attack_df"
   ]
  },
  {
   "cell_type": "markdown",
   "id": "8a50ae38-a401-4fa0-b5cf-441e2ea5f561",
   "metadata": {
    "execution": {
     "iopub.execute_input": "2024-07-29T20:58:57.079685Z",
     "iopub.status.busy": "2024-07-29T20:58:57.079277Z",
     "iopub.status.idle": "2024-07-29T20:58:57.086135Z",
     "shell.execute_reply": "2024-07-29T20:58:57.084966Z",
     "shell.execute_reply.started": "2024-07-29T20:58:57.079656Z"
    }
   },
   "source": [
    "## 4. 整合两份数据\n",
    "\n",
    "将大盘数据和异常数据 concat 起来，然后存成 csv"
   ]
  },
  {
   "cell_type": "code",
   "execution_count": 22,
   "id": "cbda4755-9f97-41e6-ad76-ea5e1a86b994",
   "metadata": {
    "execution": {
     "iopub.execute_input": "2024-07-30T19:37:49.625322Z",
     "iopub.status.busy": "2024-07-30T19:37:49.624976Z",
     "iopub.status.idle": "2024-07-30T19:37:49.650117Z",
     "shell.execute_reply": "2024-07-30T19:37:49.649466Z",
     "shell.execute_reply.started": "2024-07-30T19:37:49.625287Z"
    }
   },
   "outputs": [],
   "source": [
    "csv_path = utils.gen_abspath(directory=FILE_PATH, rel_path=CSV_FILE)\n",
    "df = pd.concat([user_df, attack_df]).sort_values(by='timestamp', ascending=True)\n",
    "df.to_csv(csv_path, index=False)"
   ]
  },
  {
   "cell_type": "code",
   "execution_count": 23,
   "id": "b9a07db1-c540-42be-a3c8-55ff253779d3",
   "metadata": {
    "execution": {
     "iopub.execute_input": "2024-07-30T19:37:49.651876Z",
     "iopub.status.busy": "2024-07-30T19:37:49.651533Z",
     "iopub.status.idle": "2024-07-30T19:37:49.660147Z",
     "shell.execute_reply": "2024-07-30T19:37:49.658927Z",
     "shell.execute_reply.started": "2024-07-30T19:37:49.651846Z"
    }
   },
   "outputs": [
    {
     "name": "stdout",
     "output_type": "stream",
     "text": [
      "len(df): 2489\n",
      "len(df[df[\"uid\"] < 0]): 482\n",
      "min(df[\"uid\"]): -48\n"
     ]
    }
   ],
   "source": [
    "print(f'len(df): {len(df)}')\n",
    "print(f'len(df[df[\"uid\"] < 0]): {len(df[df[\"uid\"] < 0])}')\n",
    "print(f'min(df[\"uid\"]): {min(df[\"uid\"])}')"
   ]
  },
  {
   "cell_type": "markdown",
   "id": "eab54c9a-8178-4756-b332-550accd1d0d0",
   "metadata": {},
   "source": [
    "与异常捕获的难度有关的变量：\n",
    "\n",
    "- 攻击持续的时间 `attack_duration`\n",
    "- 正常 ip 的含量 `normal_ip_rate`\n",
    "- 资源池的大小 `ip_num`\n",
    "- 资源池的隔离 `uid_repeat_rate`\n",
    "- 攻击间隔 `max_t` - `min_t`\n",
    "- 攻击线程数 `epoch`"
   ]
  },
  {
   "cell_type": "code",
   "execution_count": null,
   "id": "3a60fa7e-2a52-4e1d-bfb8-494c97024209",
   "metadata": {},
   "outputs": [],
   "source": []
  }
 ],
 "metadata": {
  "kernelspec": {
   "display_name": "Python 3 (ipykernel)",
   "language": "python",
   "name": "python3"
  },
  "language_info": {
   "codemirror_mode": {
    "name": "ipython",
    "version": 3
   },
   "file_extension": ".py",
   "mimetype": "text/x-python",
   "name": "python",
   "nbconvert_exporter": "python",
   "pygments_lexer": "ipython3",
   "version": "3.10.14"
  }
 },
 "nbformat": 4,
 "nbformat_minor": 5
}
